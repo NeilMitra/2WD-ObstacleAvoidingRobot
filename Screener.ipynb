{
  "nbformat": 4,
  "nbformat_minor": 0,
  "metadata": {
    "colab": {
      "provenance": [],
      "authorship_tag": "ABX9TyP5mTukCTgc25wC32AOGpYA",
      "include_colab_link": true
    },
    "kernelspec": {
      "name": "python3",
      "display_name": "Python 3"
    },
    "language_info": {
      "name": "python"
    }
  },
  "cells": [
    {
      "cell_type": "markdown",
      "metadata": {
        "id": "view-in-github",
        "colab_type": "text"
      },
      "source": [
        "<a href=\"https://colab.research.google.com/github/NeilMitra/2WD-ObstacleAvoidingRobot/blob/master/Screener.ipynb\" target=\"_parent\"><img src=\"https://colab.research.google.com/assets/colab-badge.svg\" alt=\"Open In Colab\"/></a>"
      ]
    },
    {
      "cell_type": "code",
      "source": [
        "# =============================================================================\n",
        "# 📦 CELL 1 – Install / upgrade required packages\n",
        "# =============================================================================\n",
        "!pip install --quiet yfinance statsmodels scikit-learn seaborn scipy\n",
        "\n",
        "\n",
        "# =============================================================================\n",
        "# 📚 CELL 2 – Imports, global style, utilities\n",
        "# =============================================================================\n",
        "import os, warnings, pickle\n",
        "from datetime import datetime, timedelta\n",
        "\n",
        "import numpy as np\n",
        "import pandas as pd\n",
        "import matplotlib.pyplot as plt\n",
        "import seaborn as sns\n",
        "import yfinance as yf\n",
        "import statsmodels.api as sm\n",
        "from statsmodels.tsa.stattools import coint\n",
        "from statsmodels.stats.diagnostic import het_breuschpagan\n",
        "from scipy.stats import pearsonr, spearmanr                       # ← NEW\n",
        "from sklearn.preprocessing import StandardScaler\n",
        "from sklearn.model_selection import TimeSeriesSplit\n",
        "from sklearn.ensemble import RandomForestClassifier\n",
        "\n",
        "warnings.filterwarnings(\"ignore\")\n",
        "plt.style.use(\"seaborn-v0_8\")\n"
      ],
      "metadata": {
        "id": "YoD0TaC-Kfxa"
      },
      "execution_count": 1,
      "outputs": []
    }
  ]
}